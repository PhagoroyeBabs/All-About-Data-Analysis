{
 "cells": [
  {
   "cell_type": "code",
   "execution_count": 1,
   "metadata": {},
   "outputs": [],
   "source": [
    "''' Load the neccessary Library to Run the website and to do the task '''\n",
    "\n",
    "from selenium import webdriver           # Load the selenium webdriver to access the browser \n",
    "import requests                          # To make a call to the internet web address\n",
    "from bs4 import BeautifulSoup            # Library needed for Webscraping \n",
    "import pandas as pd                      # Library to load data into a tables or tabular panels\n",
    "import time                              # Time Library\n",
    "#driver = webdriver.Chrome(executable_path=\"C:\\chromedriver.exe\")\n",
    "#website = 'https://www.propertypro.ng/in/abuja' \n",
    "#driver.get(website)"
   ]
  },
  {
   "cell_type": "code",
   "execution_count": 25,
   "metadata": {},
   "outputs": [],
   "source": [
    "def login():\n",
    "    '''\n",
    "    This function loads the web browser driver which is Chrome from the path \n",
    "    where it is installed on the computer and opens it. This driver works well\n",
    "    with the selenium library.\n",
    "\n",
    "    '''\n",
    "    \n",
    "    driver = webdriver.Chrome(executable_path=\"C:\\chromedriver.exe\")\n",
    "    return driver\n",
    "\n",
    "driver = login()"
   ]
  },
  {
   "cell_type": "code",
   "execution_count": 43,
   "metadata": {},
   "outputs": [],
   "source": [
    "# User_Request = input(\"What state do you want to consider?: \")\n",
    "# state = User_Request.casefold()"
   ]
  },
  {
   "cell_type": "code",
   "execution_count": 3,
   "metadata": {},
   "outputs": [],
   "source": [
    "# website ='https://www.propertypro.ng/wp-login.php'\n",
    "# #website = 'https://www.propertypro.ng/in/'+ state +'?page='+str(1)"
   ]
  },
  {
   "cell_type": "code",
   "execution_count": 36,
   "metadata": {},
   "outputs": [],
   "source": [
    "# select_abuja= driver.find_element_by_link_text(state.title())\n",
    "# select_abuja.click()"
   ]
  },
  {
   "cell_type": "code",
   "execution_count": 91,
   "metadata": {},
   "outputs": [],
   "source": [
    "''' \n",
    "This function accepts user input of states to look for, then if the state is present in the database,\n",
    "it gives the state. while it gives error when it is not a part of the database.\n",
    "\n",
    "'''\n",
    "\n",
    "User_Request = input(\"What state do you want to consider?: \")            # ASk for the user choice among the 36 states of Nigeria and the FCT\n",
    "state = User_Request.casefold()                                          # Convert user response to smaller case so as to ensure no Case error in input\n",
    "\n",
    "def user_input(state: str):\n",
    "    if state == 'crossriver':                                            # Since Cross river state is two word unlike the other states, give the reponse in another format based on the website code structure.\n",
    "        return(\"Hey user, that is a wrong entry why not put space between or add another state\")\n",
    "            \n",
    "    elif state == 'cross river':                                          # If the user input is not part of the 36 states, return error\n",
    "        state = 'cross-river'\n",
    "    else:\n",
    "        state\n",
    "\n",
    "    return state"
   ]
  },
  {
   "cell_type": "code",
   "execution_count": 92,
   "metadata": {},
   "outputs": [
    {
     "data": {
      "text/plain": [
       "'abuja'"
      ]
     },
     "execution_count": 92,
     "metadata": {},
     "output_type": "execute_result"
    }
   ],
   "source": [
    "state_info = user_input(state)"
   ]
  },
  {
   "cell_type": "code",
   "execution_count": 76,
   "metadata": {},
   "outputs": [],
   "source": [
    "storage = [] \n",
    "\n",
    "def get_info(driver,state_info, start: int, stop: int, step: int):\n",
    "    \n",
    "    '''   \n",
    "    Get the website using the driver and selinium library then find the data \n",
    "    available in the elements paths, class or selector of the website raw code \n",
    "    file.\n",
    "    Then extract the property typw, location of property, price of property and\n",
    "    other feature of the property.\n",
    "    This function iterates to give result of times the user gives.\n",
    "    '''\n",
    "\n",
    "\n",
    "\n",
    "    for page in range(start,stop,step):\n",
    "\n",
    "        website = 'https://www.propertypro.ng/in/'+ state_info +'?page='+str(page) \n",
    "        driver.get(website)\n",
    "        property_type = driver.find_elements_by_css_selector(\".listings-property-title\")\n",
    "        location = driver.find_elements_by_xpath('//div[2]/h4')\n",
    "        price = driver.find_elements_by_xpath(\"//h3//span[2]\")\n",
    "        \n",
    "        features = driver.find_elements_by_class_name('fur-areea')\n",
    "        for i in range(len(property_type)):\n",
    "            \n",
    "            print(property_type[i].text)\n",
    "            print(location[i].text)\n",
    "            print(price[i].text)\n",
    "            print(features[i].text)\n",
    "            storage.append([property_type[i].text, location[i].text, price[i].text, features[i].text])\n",
    "            time.sleep(1)\n",
    "    return storage"
   ]
  },
  {
   "cell_type": "code",
   "execution_count": 77,
   "metadata": {},
   "outputs": [
    {
     "name": "stdout",
     "output_type": "stream",
     "text": [
      "3 BEDROOM HOUSE FOR RENT\n",
      "Zurmi Zamfara\n",
      "950/MONTH\n",
      "3 beds 1 baths 0 Toilets\n",
      "WAREHOUSE FOR SALE\n",
      "Gusau Zamfara\n",
      "135,000\n",
      "beds baths Toilets\n",
      "COMMERCIAL LAND LAND FOR SALE\n",
      "Keffi Road Gusau Zamfara\n",
      "1,500,000\n",
      "0 beds 0 baths 0 Toilets\n"
     ]
    }
   ],
   "source": [
    "site_data = get_info(driver,state_info,0,1,1)"
   ]
  },
  {
   "cell_type": "code",
   "execution_count": 78,
   "metadata": {},
   "outputs": [],
   "source": [
    "def statistics_to_pandas(site_data: list):\n",
    "    '''  \n",
    "    Load the data generated from the scraping into a data frame and clean the data to desired taste/result\n",
    "    \n",
    "    '''\n",
    "    df = pd.DataFrame(site_data, columns=[\"Type of House\",\"Location\", \"Price\", \"Features\"])  # Create a dataframe using the scrapped data  \n",
    "\n",
    "    df['Purpose'] = df['Type of House'].str.split(\" \").map(lambda x: x[-1])                  # Determine the what the property owner wants either to sell or Rent the property\n",
    "    df['Type of House'] = df['Type of House'].str.split(\"FOR\").map(lambda x: x[0])           # Get the type of property being considered\n",
    "    \n",
    "    return(df)"
   ]
  },
  {
   "cell_type": "code",
   "execution_count": 79,
   "metadata": {},
   "outputs": [
    {
     "data": {
      "text/html": [
       "<div>\n",
       "<style scoped>\n",
       "    .dataframe tbody tr th:only-of-type {\n",
       "        vertical-align: middle;\n",
       "    }\n",
       "\n",
       "    .dataframe tbody tr th {\n",
       "        vertical-align: top;\n",
       "    }\n",
       "\n",
       "    .dataframe thead th {\n",
       "        text-align: right;\n",
       "    }\n",
       "</style>\n",
       "<table border=\"1\" class=\"dataframe\">\n",
       "  <thead>\n",
       "    <tr style=\"text-align: right;\">\n",
       "      <th></th>\n",
       "      <th>Type of House</th>\n",
       "      <th>Location</th>\n",
       "      <th>Price</th>\n",
       "      <th>Features</th>\n",
       "      <th>Purpose</th>\n",
       "    </tr>\n",
       "  </thead>\n",
       "  <tbody>\n",
       "    <tr>\n",
       "      <th>0</th>\n",
       "      <td>3 BEDROOM HOUSE</td>\n",
       "      <td>Zurmi Zamfara</td>\n",
       "      <td>950/MONTH</td>\n",
       "      <td>3 beds 1 baths 0 Toilets</td>\n",
       "      <td>RENT</td>\n",
       "    </tr>\n",
       "    <tr>\n",
       "      <th>1</th>\n",
       "      <td>WAREHOUSE</td>\n",
       "      <td>Gusau Zamfara</td>\n",
       "      <td>135,000</td>\n",
       "      <td>beds baths Toilets</td>\n",
       "      <td>SALE</td>\n",
       "    </tr>\n",
       "    <tr>\n",
       "      <th>2</th>\n",
       "      <td>COMMERCIAL LAND LAND</td>\n",
       "      <td>Keffi Road Gusau Zamfara</td>\n",
       "      <td>1,500,000</td>\n",
       "      <td>0 beds 0 baths 0 Toilets</td>\n",
       "      <td>SALE</td>\n",
       "    </tr>\n",
       "  </tbody>\n",
       "</table>\n",
       "</div>"
      ],
      "text/plain": [
       "           Type of House                  Location      Price  \\\n",
       "0       3 BEDROOM HOUSE              Zurmi Zamfara  950/MONTH   \n",
       "1             WAREHOUSE              Gusau Zamfara    135,000   \n",
       "2  COMMERCIAL LAND LAND   Keffi Road Gusau Zamfara  1,500,000   \n",
       "\n",
       "                   Features Purpose  \n",
       "0  3 beds 1 baths 0 Toilets    RENT  \n",
       "1        beds baths Toilets    SALE  \n",
       "2  0 beds 0 baths 0 Toilets    SALE  "
      ]
     },
     "execution_count": 79,
     "metadata": {},
     "output_type": "execute_result"
    }
   ],
   "source": [
    "statistics_to_pandas(site_data)   # Check the Data frame to see Result and make changes where needed"
   ]
  },
  {
   "cell_type": "code",
   "execution_count": 80,
   "metadata": {},
   "outputs": [],
   "source": [
    "driver.quit()    #Quit the browser at the end of the scraping."
   ]
  },
  {
   "cell_type": "code",
   "execution_count": null,
   "metadata": {},
   "outputs": [],
   "source": []
  }
 ],
 "metadata": {
  "kernelspec": {
   "display_name": "Python 3.10.4 ('Virtual_Environment')",
   "language": "python",
   "name": "python3"
  },
  "language_info": {
   "codemirror_mode": {
    "name": "ipython",
    "version": 3
   },
   "file_extension": ".py",
   "mimetype": "text/x-python",
   "name": "python",
   "nbconvert_exporter": "python",
   "pygments_lexer": "ipython3",
   "version": "3.10.4"
  },
  "orig_nbformat": 4,
  "vscode": {
   "interpreter": {
    "hash": "ab84363728b07c0354afea0aa7723ed5a3a10e09704f0db197ed974472f8126f"
   }
  }
 },
 "nbformat": 4,
 "nbformat_minor": 2
}
