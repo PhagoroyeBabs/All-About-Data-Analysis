{
 "cells": [
  {
   "cell_type": "markdown",
   "metadata": {},
   "source": [
    "# Book Recommendation Analysis   \n",
    "\n",
    "Books have been one source of inspiration and mind building over the years. Thankfully there have been a lot of writers doing justice to make peopl more facinated to reading and also save the reading culture. \n",
    "\n",
    "One of the best method to aid in selecting the next book to read is by going through ones book title choice to select the next book. \n",
    "One good way is by using [Recommendation Systems](https://en.wikipedia.org/wiki/Recommender_system#:~:text=A%20recommender%20system%2C%20or%20a,would%20give%20to%20an%20item.) these are very common due to continuous demand and need to get the best book to read.  \n",
    "\n",
    "A recommendation system is a subclass of information filtering system that seeks to predict the \"rating\" or \"preference\" a user would give to an item.  \n",
    "They are primarily used in commercial applications. (source - Wikipedia)\n",
    "\n",
    "> ### <u>Aim of the Project </u>\n",
    ">1. This Project Looks to  analyse and preprocess the [Book Recommendation Dataset](https://www.kaggle.com/datasets/arashnic/book-recommendation-dataset) from kaggle i have also saved the data i used in my github repository.\n",
    ">2. Find the Most books read by the user\n",
    ">3. Average user ratings of books.\n",
    ">4. Top Author and Publisher with the years with highest books published.\n",
    "\n",
    "**Whole code below is written [Python](https://www.python.org/) using various libraries.** _and creating functions for some of the code for reuseability._\n",
    "\n",
    "<p align=\"center\">\n",
    "    <br clear=\"right\"/>\n",
    "    <img src=\"https://i2.wp.com/thenerddaily.com/wp-content/uploads/2019/06/Book-Recommendations-Four-Word-Title.jpg?resize=768%2C570&ssl=1\" alt=\"Books\" width=\"1000\" height=\"500\" />\n",
    "</p>"
   ]
  },
  {
   "cell_type": "code",
   "execution_count": 1,
   "metadata": {},
   "outputs": [],
   "source": [
    "# Load the various library that would be used in the notebook. \n",
    "import pandas as pd\n",
    "import numpy as np\n",
    "import seaborn as sns\n",
    "import matplotlib.pyplot as plt\n",
    "import string\n",
    "import pickle as pkl\n",
    "import re \n",
    "%matplotlib inline\n",
    "import warnings\n",
    "warnings.filterwarnings('ignore')"
   ]
  },
  {
   "cell_type": "code",
   "execution_count": 21,
   "metadata": {},
   "outputs": [
    {
     "name": "stdout",
     "output_type": "stream",
     "text": [
      "You entered: rating\n",
      "--------------------\n"
     ]
    }
   ],
   "source": [
    "DATA = {'book': 'Books.csv',\n",
    "              'rating': 'ratings.csv',\n",
    "              'user': 'Users.csv'}\n",
    "\n",
    "def filter_value():\n",
    "    '''\n",
    "    This function looks into the dictionary and then loads the corresponding  \n",
    "    data. This function would accept any entry within the dictionary regardless\n",
    "    of the Case of Way it is written\n",
    "\n",
    "    '''\n",
    "    try:\n",
    "        # Turn the entry to mixture of Capital and Small letters to accomondate different method of user input\n",
    "        data = input(\"Enter the required value here. It should be any of book, rating, user\").casefold() \n",
    "        while data not in DATA:\n",
    "            print('The information given is not allowed.\\n Enter a new one')\n",
    "            # Turn the entry to first letter Capital and the rest small letters\n",
    "            data = input(\"Enter the required value here. It should be any of book, rating, user\").casefold()\n",
    "        print('You entered:', data)\n",
    "\n",
    "    except Exception as e:\n",
    "        print('There is an error in your input: {}'.format(e))\n",
    "    print('-'*20)\n",
    "    # make the final data entry as lower regardless of the input  \n",
    "    data = data.lower()\n",
    "    return data\n",
    "    \n",
    "# Declare a variable to access the function created\n",
    "data = filter_value()   "
   ]
  },
  {
   "cell_type": "code",
   "execution_count": 22,
   "metadata": {},
   "outputs": [],
   "source": [
    "def load_data(data):\n",
    "    '''\n",
    "    This function would Load Data into dataframe which\n",
    "    would be needed for analysis. It check if a condition is met\n",
    "    then load the dataframe else load the other condition until\n",
    "    the condition is met.\n",
    "\n",
    "    '''\n",
    "    if data == 'book':\n",
    "    # load the book data if book is passed into the function \n",
    "        df = pd.read_csv(DATA[data])       \n",
    "    elif data == 'rating':\n",
    "    # Load the rating data if rating is passed into the function\n",
    "        df = pd.read_csv(DATA[data])        \n",
    "    else:\n",
    "    # load the user data if none of the rating or book data is passed into the function\n",
    "        df = pd.read_csv(DATA[data])       \n",
    "    \n",
    "    return(df)\n",
    "\n",
    "details = load_data(data)                 # Variable to load the function "
   ]
  },
  {
   "cell_type": "code",
   "execution_count": 23,
   "metadata": {},
   "outputs": [],
   "source": [
    "# Uncomment the variable representing the data loaded into the function e.g if book is loaded uncomment book\n",
    "#book = details            # Save if function return book dataframe\n",
    "#user = details            # Save if function return user dataframe \n",
    "#rating = details          # Save if function return rating dataframe"
   ]
  },
  {
   "cell_type": "code",
   "execution_count": 7,
   "metadata": {},
   "outputs": [
    {
     "data": {
      "text/html": [
       "<div>\n",
       "<style scoped>\n",
       "    .dataframe tbody tr th:only-of-type {\n",
       "        vertical-align: middle;\n",
       "    }\n",
       "\n",
       "    .dataframe tbody tr th {\n",
       "        vertical-align: top;\n",
       "    }\n",
       "\n",
       "    .dataframe thead th {\n",
       "        text-align: right;\n",
       "    }\n",
       "</style>\n",
       "<table border=\"1\" class=\"dataframe\">\n",
       "  <thead>\n",
       "    <tr style=\"text-align: right;\">\n",
       "      <th></th>\n",
       "      <th>ISBN</th>\n",
       "      <th>Book-Title</th>\n",
       "      <th>Book-Author</th>\n",
       "      <th>Year-Of-Publication</th>\n",
       "      <th>Publisher</th>\n",
       "      <th>Image-URL-S</th>\n",
       "      <th>Image-URL-M</th>\n",
       "      <th>Image-URL-L</th>\n",
       "    </tr>\n",
       "  </thead>\n",
       "  <tbody>\n",
       "    <tr>\n",
       "      <th>0</th>\n",
       "      <td>0195153448</td>\n",
       "      <td>Classical Mythology</td>\n",
       "      <td>Mark P. O. Morford</td>\n",
       "      <td>2002</td>\n",
       "      <td>Oxford University Press</td>\n",
       "      <td>http://images.amazon.com/images/P/0195153448.0...</td>\n",
       "      <td>http://images.amazon.com/images/P/0195153448.0...</td>\n",
       "      <td>http://images.amazon.com/images/P/0195153448.0...</td>\n",
       "    </tr>\n",
       "    <tr>\n",
       "      <th>1</th>\n",
       "      <td>0002005018</td>\n",
       "      <td>Clara Callan</td>\n",
       "      <td>Richard Bruce Wright</td>\n",
       "      <td>2001</td>\n",
       "      <td>HarperFlamingo Canada</td>\n",
       "      <td>http://images.amazon.com/images/P/0002005018.0...</td>\n",
       "      <td>http://images.amazon.com/images/P/0002005018.0...</td>\n",
       "      <td>http://images.amazon.com/images/P/0002005018.0...</td>\n",
       "    </tr>\n",
       "    <tr>\n",
       "      <th>2</th>\n",
       "      <td>0060973129</td>\n",
       "      <td>Decision in Normandy</td>\n",
       "      <td>Carlo D'Este</td>\n",
       "      <td>1991</td>\n",
       "      <td>HarperPerennial</td>\n",
       "      <td>http://images.amazon.com/images/P/0060973129.0...</td>\n",
       "      <td>http://images.amazon.com/images/P/0060973129.0...</td>\n",
       "      <td>http://images.amazon.com/images/P/0060973129.0...</td>\n",
       "    </tr>\n",
       "    <tr>\n",
       "      <th>3</th>\n",
       "      <td>0374157065</td>\n",
       "      <td>Flu: The Story of the Great Influenza Pandemic...</td>\n",
       "      <td>Gina Bari Kolata</td>\n",
       "      <td>1999</td>\n",
       "      <td>Farrar Straus Giroux</td>\n",
       "      <td>http://images.amazon.com/images/P/0374157065.0...</td>\n",
       "      <td>http://images.amazon.com/images/P/0374157065.0...</td>\n",
       "      <td>http://images.amazon.com/images/P/0374157065.0...</td>\n",
       "    </tr>\n",
       "    <tr>\n",
       "      <th>4</th>\n",
       "      <td>0393045218</td>\n",
       "      <td>The Mummies of Urumchi</td>\n",
       "      <td>E. J. W. Barber</td>\n",
       "      <td>1999</td>\n",
       "      <td>W. W. Norton &amp;amp; Company</td>\n",
       "      <td>http://images.amazon.com/images/P/0393045218.0...</td>\n",
       "      <td>http://images.amazon.com/images/P/0393045218.0...</td>\n",
       "      <td>http://images.amazon.com/images/P/0393045218.0...</td>\n",
       "    </tr>\n",
       "  </tbody>\n",
       "</table>\n",
       "</div>"
      ],
      "text/plain": [
       "         ISBN                                         Book-Title  \\\n",
       "0  0195153448                                Classical Mythology   \n",
       "1  0002005018                                       Clara Callan   \n",
       "2  0060973129                               Decision in Normandy   \n",
       "3  0374157065  Flu: The Story of the Great Influenza Pandemic...   \n",
       "4  0393045218                             The Mummies of Urumchi   \n",
       "\n",
       "            Book-Author Year-Of-Publication                   Publisher  \\\n",
       "0    Mark P. O. Morford                2002     Oxford University Press   \n",
       "1  Richard Bruce Wright                2001       HarperFlamingo Canada   \n",
       "2          Carlo D'Este                1991             HarperPerennial   \n",
       "3      Gina Bari Kolata                1999        Farrar Straus Giroux   \n",
       "4       E. J. W. Barber                1999  W. W. Norton &amp; Company   \n",
       "\n",
       "                                         Image-URL-S  \\\n",
       "0  http://images.amazon.com/images/P/0195153448.0...   \n",
       "1  http://images.amazon.com/images/P/0002005018.0...   \n",
       "2  http://images.amazon.com/images/P/0060973129.0...   \n",
       "3  http://images.amazon.com/images/P/0374157065.0...   \n",
       "4  http://images.amazon.com/images/P/0393045218.0...   \n",
       "\n",
       "                                         Image-URL-M  \\\n",
       "0  http://images.amazon.com/images/P/0195153448.0...   \n",
       "1  http://images.amazon.com/images/P/0002005018.0...   \n",
       "2  http://images.amazon.com/images/P/0060973129.0...   \n",
       "3  http://images.amazon.com/images/P/0374157065.0...   \n",
       "4  http://images.amazon.com/images/P/0393045218.0...   \n",
       "\n",
       "                                         Image-URL-L  \n",
       "0  http://images.amazon.com/images/P/0195153448.0...  \n",
       "1  http://images.amazon.com/images/P/0002005018.0...  \n",
       "2  http://images.amazon.com/images/P/0060973129.0...  \n",
       "3  http://images.amazon.com/images/P/0374157065.0...  \n",
       "4  http://images.amazon.com/images/P/0393045218.0...  "
      ]
     },
     "execution_count": 7,
     "metadata": {},
     "output_type": "execute_result"
    }
   ],
   "source": [
    "# Check the output of the function saved as a variable\n",
    "book.head()"
   ]
  },
  {
   "cell_type": "markdown",
   "metadata": {},
   "source": [
    "## Data Cleaning "
   ]
  },
  {
   "cell_type": "code",
   "execution_count": 8,
   "metadata": {},
   "outputs": [],
   "source": [
    "def check_data_details(details):\n",
    "\n",
    "    '''\n",
    "    This function performs some descriptive analysis of the data to get some \n",
    "    information about the data and hence do some data cleaning\n",
    "    or data wrangling as needed.\n",
    "\n",
    "    '''\n",
    "    # Check the information of the loaded data\n",
    "    details_info = details.info()               \n",
    "\n",
    "    # Check if there is null value present in the dataframe\n",
    "    details_no_null = details.isnull().sum()\n",
    "\n",
    "    # Check the measures of center tendency of the data loaded\n",
    "    details_desc = details.describe()\n",
    "\n",
    "    print(f'{details_info}\\n',\n",
    "     f'No of null {details_no_null}\\n',\n",
    "     f'description {details_desc}........')\n",
    "    "
   ]
  },
  {
   "cell_type": "markdown",
   "metadata": {},
   "source": [
    "From the Above function, it is shown that the *`Book-Author`, `Publisher`, `Image-URL-L`* have some null values from the book DataFrame loaded.\n",
    "\n",
    "Therefore, There is need to investigate the data more closely and do some data cleaning where need be."
   ]
  },
  {
   "cell_type": "code",
   "execution_count": 9,
   "metadata": {},
   "outputs": [
    {
     "name": "stdout",
     "output_type": "stream",
     "text": [
      "<class 'pandas.core.frame.DataFrame'>\n",
      "RangeIndex: 271360 entries, 0 to 271359\n",
      "Data columns (total 8 columns):\n",
      " #   Column               Non-Null Count   Dtype \n",
      "---  ------               --------------   ----- \n",
      " 0   ISBN                 271360 non-null  object\n",
      " 1   Book-Title           271360 non-null  object\n",
      " 2   Book-Author          271359 non-null  object\n",
      " 3   Year-Of-Publication  271360 non-null  object\n",
      " 4   Publisher            271358 non-null  object\n",
      " 5   Image-URL-S          271360 non-null  object\n",
      " 6   Image-URL-M          271360 non-null  object\n",
      " 7   Image-URL-L          271357 non-null  object\n",
      "dtypes: object(8)\n",
      "memory usage: 16.6+ MB\n",
      "None\n",
      " No of null ISBN                   0\n",
      "Book-Title             0\n",
      "Book-Author            1\n",
      "Year-Of-Publication    0\n",
      "Publisher              2\n",
      "Image-URL-S            0\n",
      "Image-URL-M            0\n",
      "Image-URL-L            3\n",
      "dtype: int64\n",
      " description               ISBN      Book-Title      Book-Author  Year-Of-Publication  \\\n",
      "count       271360          271360           271359               271360   \n",
      "unique      271360          242135           102023                  202   \n",
      "top     0195153448  Selected Poems  Agatha Christie                 2002   \n",
      "freq             1              27              632                13903   \n",
      "\n",
      "        Publisher                                        Image-URL-S  \\\n",
      "count      271358                                             271360   \n",
      "unique      16807                                             271044   \n",
      "top     Harlequin  http://images.amazon.com/images/P/185326119X.0...   \n",
      "freq         7535                                                  2   \n",
      "\n",
      "                                              Image-URL-M  \\\n",
      "count                                              271360   \n",
      "unique                                             271044   \n",
      "top     http://images.amazon.com/images/P/185326119X.0...   \n",
      "freq                                                    2   \n",
      "\n",
      "                                              Image-URL-L  \n",
      "count                                              271357  \n",
      "unique                                             271041  \n",
      "top     http://images.amazon.com/images/P/225307649X.0...  \n",
      "freq                                                    2  ........\n"
     ]
    }
   ],
   "source": [
    "check_data_details(book)"
   ]
  },
  {
   "cell_type": "code",
   "execution_count": 58,
   "metadata": {},
   "outputs": [
    {
     "name": "stdout",
     "output_type": "stream",
     "text": [
      "This column asked to consider is Year-Of-Publication\n",
      "========================================\n",
      "\n",
      " The column is of data type: object\n",
      " ==================================================================================================== \n",
      " With the value of Year-Of-Publication; [2002 2001 1991 1999 2000 1993 1996 1988 2004 1998 1994 2003 1997 1983\n",
      " 1979 1995 1982 1985 1992 1986 1978 1980 1952 1987 1990 1981 1989 1984 0\n",
      " 1968 1961 1958 1974 1976 1971 1977 1975 1965 1941 1970 1962 1973 1972\n",
      " 1960 1966 1920 1956 1959 1953 1951 1942 1963 1964 1969 1954 1950 1967\n",
      " 2005 1957 1940 1937 1955 1946 1936 1930 2011 1925 1948 1943 1947 1945\n",
      " 1923 2020 1939 1926 1938 2030 1911 1904 1949 1932 1928 1929 1927 1931\n",
      " 1914 2050 1934 1910 1933 1902 1924 1921 1900 2038 2026 1944 1917 1901\n",
      " 2010 1908 1906 1935 1806 2021 '2000' '1995' '1999' '2004' '2003' '1990'\n",
      " '1994' '1986' '1989' '2002' '1981' '1993' '1983' '1982' '1976' '1991'\n",
      " '1977' '1998' '1992' '1996' '0' '1997' '2001' '1974' '1968' '1987' '1984'\n",
      " '1988' '1963' '1956' '1970' '1985' '1978' '1973' '1980' '1979' '1975'\n",
      " '1969' '1961' '1965' '1939' '1958' '1950' '1953' '1966' '1971' '1959'\n",
      " '1972' '1955' '1957' '1945' '1960' '1967' '1932' '1924' '1964' '2012'\n",
      " '1911' '1927' '1948' '1962' '2006' '1952' '1940' '1951' '1931' '1954'\n",
      " '2005' '1930' '1941' '1944' 'DK Publishing Inc' '1943' '1938' '1900'\n",
      " '1942' '1923' '1920' '1933' 'Gallimard' '1909' '1946' '2008' '1378'\n",
      " '2030' '1936' '1947' '2011' '2020' '1919' '1949' '1922' '1897' '2024'\n",
      " '1376' '1926' '2037']\n"
     ]
    }
   ],
   "source": [
    "def Book_Ticks():\n",
    "    '''\n",
    "    This function finds the unique value of each columns of the dataframe\n",
    "    of the data passed to check if there is any column with not well \n",
    "    presented values.\n",
    "\n",
    "    '''\n",
    "    \n",
    "    try:\n",
    "\n",
    "    # Ask user to input desired column to check.\n",
    "        publication = input('Enter the value of column to consider: ')\n",
    "        while publication not in book.columns:\n",
    "            print('Value can only be a column in the dataframe')\n",
    "            publication = input('Enter the value of column to consider: ')\n",
    "        print('This column asked to consider is', publication)\n",
    "    \n",
    "    except Exception as e:\n",
    "        print('There is an error with the input: {}'.format(e))\n",
    "    print('='*40)\n",
    "    return print(f'\\n The column is of data type: {book[publication].dtype}\\n',\n",
    "    '='*100, f'\\n With the value of {publication}; {book[publication].unique()}')\n",
    "Check_column = Book_Ticks()\n"
   ]
  },
  {
   "cell_type": "markdown",
   "metadata": {},
   "source": [
    "From  the data,  It is seen that the Year of Publication year is not well represented having checked the unique values of each column in the book dataframe. \n",
    "\n",
    "This would need some cleaning which i wrote another function to treat the cleanin of the rows affected below."
   ]
  },
  {
   "cell_type": "code",
   "execution_count": 10,
   "metadata": {},
   "outputs": [],
   "source": [
    "Publication = input('Enter the desired text here: ')\n",
    "\n",
    "def Check_Book_Columns(Publication):\n",
    "    '''\n",
    "    This function does the same thing as the Book_Tick Function.\n",
    "    You can use any of the function suitable for you. It would still \n",
    "    return the same output.\n",
    "    '''\n",
    "    \n",
    "    try:\n",
    "        Investigate = book[Publication]\n",
    "\n",
    "    # Check the data type of the column passed\n",
    "        c = Investigate.dtype \n",
    "\n",
    "    # Check the unique values present in the column passed.    \n",
    "        d = Investigate.unique()   \n",
    "        \n",
    "    except Exception as e:\n",
    "        print('There is an error with the input: {}'.format(e))\n",
    "    print('='*40)\n",
    "    print(f'The data is of type: {c}\\n', \n",
    "        '-'*120,\n",
    "        f'\\n with unique values: {d}\\n', '='*100, f'\\n And the value of {Publication} are: {c}')\n",
    "    return (Investigate) \n"
   ]
  },
  {
   "cell_type": "code",
   "execution_count": 11,
   "metadata": {},
   "outputs": [
    {
     "name": "stdout",
     "output_type": "stream",
     "text": [
      "========================================\n",
      "The data is of type: object\n",
      " ------------------------------------------------------------------------------------------------------------------------ \n",
      " with unique values: [2002 2001 1991 1999 2000 1993 1996 1988 2004 1998 1994 2003 1997 1983\n",
      " 1979 1995 1982 1985 1992 1986 1978 1980 1952 1987 1990 1981 1989 1984 0\n",
      " 1968 1961 1958 1974 1976 1971 1977 1975 1965 1941 1970 1962 1973 1972\n",
      " 1960 1966 1920 1956 1959 1953 1951 1942 1963 1964 1969 1954 1950 1967\n",
      " 2005 1957 1940 1937 1955 1946 1936 1930 2011 1925 1948 1943 1947 1945\n",
      " 1923 2020 1939 1926 1938 2030 1911 1904 1949 1932 1928 1929 1927 1931\n",
      " 1914 2050 1934 1910 1933 1902 1924 1921 1900 2038 2026 1944 1917 1901\n",
      " 2010 1908 1906 1935 1806 2021 '2000' '1995' '1999' '2004' '2003' '1990'\n",
      " '1994' '1986' '1989' '2002' '1981' '1993' '1983' '1982' '1976' '1991'\n",
      " '1977' '1998' '1992' '1996' '0' '1997' '2001' '1974' '1968' '1987' '1984'\n",
      " '1988' '1963' '1956' '1970' '1985' '1978' '1973' '1980' '1979' '1975'\n",
      " '1969' '1961' '1965' '1939' '1958' '1950' '1953' '1966' '1971' '1959'\n",
      " '1972' '1955' '1957' '1945' '1960' '1967' '1932' '1924' '1964' '2012'\n",
      " '1911' '1927' '1948' '1962' '2006' '1952' '1940' '1951' '1931' '1954'\n",
      " '2005' '1930' '1941' '1944' 'DK Publishing Inc' '1943' '1938' '1900'\n",
      " '1942' '1923' '1920' '1933' 'Gallimard' '1909' '1946' '2008' '1378'\n",
      " '2030' '1936' '1947' '2011' '2020' '1919' '1949' '1922' '1897' '2024'\n",
      " '1376' '1926' '2037']\n",
      " ==================================================================================================== \n",
      " And the value of Year-Of-Publication are: object\n"
     ]
    }
   ],
   "source": [
    "Check_column = Check_Book_Columns(Publication)"
   ]
  },
  {
   "cell_type": "code",
   "execution_count": 12,
   "metadata": {},
   "outputs": [],
   "source": [
    "def Identify_Anom(df):\n",
    "    '''\n",
    "    This function accepts the loaded book dataframe, then Locate the position of values \n",
    "    not well represented.\n",
    "    Also split the 2nd column of the set of new dataframe given by the delimiter ; and give \n",
    "    the values.\n",
    "    Clean the values of the columns present in the new dataframe then present it in a more \n",
    "    presentable and clean form.\n",
    "\n",
    "    '''\n",
    "    # Locate the position of the rows with the different values in the column Year of Publication\n",
    "    Search = df.loc[(Check_column == 'DK Publishing Inc') | (Check_column == 'Gallimard')]\n",
    "\n",
    "    # On the second column, split the values by the delimiter ; in one appearance.\n",
    "    Split_info = Search.iloc[:,1].str.split(pat=\";\", n= 1)\n",
    "\n",
    "    # Load the value in a dataframe \n",
    "    df_Split_info = pd.DataFrame(Split_info)\n",
    "\n",
    "    # Load the list value to a dataframe \n",
    "    Sep_df_Split_info = pd.DataFrame(df_Split_info['Book-Title'].to_list())\n",
    "\n",
    "    # Rename the column name to more appropriate column title and also index \n",
    "    Rename_Col_Sep_df_Split_info = Sep_df_Split_info.rename(columns={0 : 'Book-Title', 1 : 'Book-Author'},index={0:209538, 1:220731, 2:221678})\n",
    "\n",
    "    # Move the values in the dataframe by one column to the right \n",
    "    Data_shift = Search.shift(periods=1, axis='columns') \n",
    "\n",
    "    # Shift the data of the specified column only by one to the left \n",
    "    Clean = Data_shift[['ISBN', 'Book-Title','Book-Author']].shift(-1, axis= 'columns') \n",
    "\n",
    "    # Store the result of the modification as a new value of the dataframe\n",
    "    Data_shift[['ISBN', 'Book-Title']] = Clean[['ISBN', 'Book-Title']]\n",
    "    Data_shift[['Book-Title', 'Book-Author']] = Rename_Col_Sep_df_Split_info[['Book-Title', 'Book-Author']]\n",
    "    \n",
    "    return(Data_shift)\n",
    "\n",
    "#Look for the position of the index given and store it as the value of the function result\n",
    "book.loc[[209538,220731,221678],:] = Identify_Anom(book)\n",
    "\n",
    "# #Create a variable to save the new cleaned dataframe \n",
    "cleaned_details = book"
   ]
  },
  {
   "cell_type": "code",
   "execution_count": 13,
   "metadata": {},
   "outputs": [
    {
     "data": {
      "text/html": [
       "<div>\n",
       "<style scoped>\n",
       "    .dataframe tbody tr th:only-of-type {\n",
       "        vertical-align: middle;\n",
       "    }\n",
       "\n",
       "    .dataframe tbody tr th {\n",
       "        vertical-align: top;\n",
       "    }\n",
       "\n",
       "    .dataframe thead th {\n",
       "        text-align: right;\n",
       "    }\n",
       "</style>\n",
       "<table border=\"1\" class=\"dataframe\">\n",
       "  <thead>\n",
       "    <tr style=\"text-align: right;\">\n",
       "      <th></th>\n",
       "      <th>ISBN</th>\n",
       "      <th>Book-Title</th>\n",
       "      <th>Book-Author</th>\n",
       "      <th>Year-Of-Publication</th>\n",
       "      <th>Publisher</th>\n",
       "      <th>Image-URL-S</th>\n",
       "      <th>Image-URL-M</th>\n",
       "      <th>Image-URL-L</th>\n",
       "    </tr>\n",
       "  </thead>\n",
       "  <tbody>\n",
       "    <tr>\n",
       "      <th>209538</th>\n",
       "      <td>078946697X</td>\n",
       "      <td>DK Readers: Creating the X-Men, How It All Beg...</td>\n",
       "      <td>Michael Teitelbaum\"</td>\n",
       "      <td>2000</td>\n",
       "      <td>DK Publishing Inc</td>\n",
       "      <td>http://images.amazon.com/images/P/078946697X.0...</td>\n",
       "      <td>http://images.amazon.com/images/P/078946697X.0...</td>\n",
       "      <td>http://images.amazon.com/images/P/078946697X.0...</td>\n",
       "    </tr>\n",
       "    <tr>\n",
       "      <th>220731</th>\n",
       "      <td>2070426769</td>\n",
       "      <td>Peuple du ciel, suivi de 'Les Bergers\\\"</td>\n",
       "      <td>Jean-Marie Gustave Le ClÃ?Â©zio\"</td>\n",
       "      <td>2003</td>\n",
       "      <td>Gallimard</td>\n",
       "      <td>http://images.amazon.com/images/P/2070426769.0...</td>\n",
       "      <td>http://images.amazon.com/images/P/2070426769.0...</td>\n",
       "      <td>http://images.amazon.com/images/P/2070426769.0...</td>\n",
       "    </tr>\n",
       "    <tr>\n",
       "      <th>221678</th>\n",
       "      <td>0789466953</td>\n",
       "      <td>DK Readers: Creating the X-Men, How Comic Book...</td>\n",
       "      <td>James Buckley\"</td>\n",
       "      <td>2000</td>\n",
       "      <td>DK Publishing Inc</td>\n",
       "      <td>http://images.amazon.com/images/P/0789466953.0...</td>\n",
       "      <td>http://images.amazon.com/images/P/0789466953.0...</td>\n",
       "      <td>http://images.amazon.com/images/P/0789466953.0...</td>\n",
       "    </tr>\n",
       "  </tbody>\n",
       "</table>\n",
       "</div>"
      ],
      "text/plain": [
       "              ISBN                                         Book-Title  \\\n",
       "209538  078946697X  DK Readers: Creating the X-Men, How It All Beg...   \n",
       "220731  2070426769            Peuple du ciel, suivi de 'Les Bergers\\\"   \n",
       "221678  0789466953  DK Readers: Creating the X-Men, How Comic Book...   \n",
       "\n",
       "                             Book-Author Year-Of-Publication  \\\n",
       "209538               Michael Teitelbaum\"                2000   \n",
       "220731  Jean-Marie Gustave Le ClÃ?Â©zio\"                2003   \n",
       "221678                    James Buckley\"                2000   \n",
       "\n",
       "                Publisher                                        Image-URL-S  \\\n",
       "209538  DK Publishing Inc  http://images.amazon.com/images/P/078946697X.0...   \n",
       "220731          Gallimard  http://images.amazon.com/images/P/2070426769.0...   \n",
       "221678  DK Publishing Inc  http://images.amazon.com/images/P/0789466953.0...   \n",
       "\n",
       "                                              Image-URL-M  \\\n",
       "209538  http://images.amazon.com/images/P/078946697X.0...   \n",
       "220731  http://images.amazon.com/images/P/2070426769.0...   \n",
       "221678  http://images.amazon.com/images/P/0789466953.0...   \n",
       "\n",
       "                                              Image-URL-L  \n",
       "209538  http://images.amazon.com/images/P/078946697X.0...  \n",
       "220731  http://images.amazon.com/images/P/2070426769.0...  \n",
       "221678  http://images.amazon.com/images/P/0789466953.0...  "
      ]
     },
     "execution_count": 13,
     "metadata": {},
     "output_type": "execute_result"
    }
   ],
   "source": [
    "cleaned_details.loc[[209538,220731,221678],:]"
   ]
  },
  {
   "cell_type": "markdown",
   "metadata": {},
   "source": [
    "It is seen that the columns are not well represented with their values i created a function to clean the data and present the values properly"
   ]
  },
  {
   "cell_type": "code",
   "execution_count": 15,
   "metadata": {},
   "outputs": [
    {
     "name": "stdout",
     "output_type": "stream",
     "text": [
      "This is the Needed cleaned data\n",
      "======================================================================\n"
     ]
    }
   ],
   "source": [
    "def Columns_needed(df,a,b):\n",
    "\n",
    "    '''\n",
    "    This function divides the dataframe to columns needed. \n",
    "    So as to make analysis simple and be more focused.\n",
    "    The function accepts a dataframe and two positive integers\n",
    "    \n",
    "    '''\n",
    "\n",
    "    c = df.iloc[:,a:b]   \n",
    "    d = df.iloc[:,[a,1,2,5,b,b+1]]\n",
    "\n",
    "    # Check of the condition is met, then return the value of c. \n",
    "    if a == 0 and b <= 5:\n",
    "        print('This is the Needed cleaned data')\n",
    "        print('='*70)\n",
    "        return c\n",
    "    \n",
    "    # If the first condition is not met, then run this conditional.\n",
    "    elif a == 0 and b >= 6:\n",
    "        print('This is the other part of the cleaned data')\n",
    "        print('='*70)\n",
    "        return d \n",
    "    # If non of the condition is met, then print the statement given in return below\n",
    "    else:\n",
    "        return 'Value must be a dataframe, and positive integers'\n",
    "        \n",
    "        \n",
    "# # Save the function output in a variable\n",
    "Columns = Columns_needed(cleaned_details,0,5)"
   ]
  },
  {
   "cell_type": "code",
   "execution_count": 16,
   "metadata": {},
   "outputs": [],
   "source": [
    "def Publication_Change(Columns):\n",
    "    '''\n",
    "    This function change the Year of publication data type to numeric then,\n",
    "    convert any year more than 2021 or less than 0 which is the maximun and \n",
    "    minimum years considering to nan value then fill nan value by the mean \n",
    "    of the column in view. Then present column as an integer data type.\n",
    "    Also this function fill all nan in other columns of object type by the \n",
    "    word 'Unknown'.\n",
    "    \n",
    "    '''\n",
    "\n",
    "    # Convert the YearOfPublication from Object data types to numeric datatypes\n",
    "    Columns['Year-Of-Publication'] = pd.to_numeric(Columns['Year-Of-Publication'], errors='coerce') \n",
    "    \n",
    "    # In the column Year of Publish, it shows that there is 0 as year and also years more than the present year (2022)\n",
    "    Columns.loc[(Columns['Year-Of-Publication'] > 2021) | (Columns['Year-Of-Publication'] <= 0),'Year-Of-Publication'] = np.nan\n",
    "\n",
    "    # Fill all nan value as mean of the Year of Publication \n",
    "    Columns['Year-Of-Publication'].fillna(round(Columns['Year-Of-Publication'].mean()),inplace= True)\n",
    "\n",
    "    Columns = Columns.astype({'Year-Of-Publication':np.int64})\n",
    "\n",
    "    #Check if there are null value in the Dataframe\n",
    "    Columns.isnull().sum() \n",
    "    Columns['Publisher'].fillna('Unknown', inplace= True)\n",
    "    Columns['Book-Author'].fillna('Unknown', inplace=True)\n",
    "\n",
    "    return Columns \n",
    "    \n",
    "Total_Cleaned_Data = Publication_Change(Columns)"
   ]
  },
  {
   "cell_type": "code",
   "execution_count": 17,
   "metadata": {},
   "outputs": [
    {
     "data": {
      "text/html": [
       "<div>\n",
       "<style scoped>\n",
       "    .dataframe tbody tr th:only-of-type {\n",
       "        vertical-align: middle;\n",
       "    }\n",
       "\n",
       "    .dataframe tbody tr th {\n",
       "        vertical-align: top;\n",
       "    }\n",
       "\n",
       "    .dataframe thead th {\n",
       "        text-align: right;\n",
       "    }\n",
       "</style>\n",
       "<table border=\"1\" class=\"dataframe\">\n",
       "  <thead>\n",
       "    <tr style=\"text-align: right;\">\n",
       "      <th></th>\n",
       "      <th>ISBN</th>\n",
       "      <th>Book-Title</th>\n",
       "      <th>Book-Author</th>\n",
       "      <th>Year-Of-Publication</th>\n",
       "      <th>Publisher</th>\n",
       "    </tr>\n",
       "  </thead>\n",
       "  <tbody>\n",
       "    <tr>\n",
       "      <th>0</th>\n",
       "      <td>0195153448</td>\n",
       "      <td>Classical Mythology</td>\n",
       "      <td>Mark P. O. Morford</td>\n",
       "      <td>2002</td>\n",
       "      <td>Oxford University Press</td>\n",
       "    </tr>\n",
       "    <tr>\n",
       "      <th>1</th>\n",
       "      <td>0002005018</td>\n",
       "      <td>Clara Callan</td>\n",
       "      <td>Richard Bruce Wright</td>\n",
       "      <td>2001</td>\n",
       "      <td>HarperFlamingo Canada</td>\n",
       "    </tr>\n",
       "    <tr>\n",
       "      <th>2</th>\n",
       "      <td>0060973129</td>\n",
       "      <td>Decision in Normandy</td>\n",
       "      <td>Carlo D'Este</td>\n",
       "      <td>1991</td>\n",
       "      <td>HarperPerennial</td>\n",
       "    </tr>\n",
       "    <tr>\n",
       "      <th>3</th>\n",
       "      <td>0374157065</td>\n",
       "      <td>Flu: The Story of the Great Influenza Pandemic...</td>\n",
       "      <td>Gina Bari Kolata</td>\n",
       "      <td>1999</td>\n",
       "      <td>Farrar Straus Giroux</td>\n",
       "    </tr>\n",
       "    <tr>\n",
       "      <th>4</th>\n",
       "      <td>0393045218</td>\n",
       "      <td>The Mummies of Urumchi</td>\n",
       "      <td>E. J. W. Barber</td>\n",
       "      <td>1999</td>\n",
       "      <td>W. W. Norton &amp;amp; Company</td>\n",
       "    </tr>\n",
       "  </tbody>\n",
       "</table>\n",
       "</div>"
      ],
      "text/plain": [
       "         ISBN                                         Book-Title  \\\n",
       "0  0195153448                                Classical Mythology   \n",
       "1  0002005018                                       Clara Callan   \n",
       "2  0060973129                               Decision in Normandy   \n",
       "3  0374157065  Flu: The Story of the Great Influenza Pandemic...   \n",
       "4  0393045218                             The Mummies of Urumchi   \n",
       "\n",
       "            Book-Author  Year-Of-Publication                   Publisher  \n",
       "0    Mark P. O. Morford                 2002     Oxford University Press  \n",
       "1  Richard Bruce Wright                 2001       HarperFlamingo Canada  \n",
       "2          Carlo D'Este                 1991             HarperPerennial  \n",
       "3      Gina Bari Kolata                 1999        Farrar Straus Giroux  \n",
       "4       E. J. W. Barber                 1999  W. W. Norton &amp; Company  "
      ]
     },
     "execution_count": 17,
     "metadata": {},
     "output_type": "execute_result"
    }
   ],
   "source": [
    "Total_Cleaned_Data.head()"
   ]
  },
  {
   "cell_type": "markdown",
   "metadata": {},
   "source": [
    "#### Check for User Data for any need for changes\n",
    "\n",
    "> The user data is loaded from the entry input of the filter_value function which should be loaded by inputting user to determine values of the user datasets. \n",
    "\n",
    "> All ages less than 4 years or greater than 90 is not considered in the analysis as it is assumed that people within this age bracket can't read or don't have business in active reading. Though this assumption is arguable."
   ]
  },
  {
   "cell_type": "code",
   "execution_count": 25,
   "metadata": {},
   "outputs": [],
   "source": [
    "def Clean_User(dfu):\n",
    "\n",
    "    '''\n",
    "    This function looks for user ages less than 4 years and greater than 90 years\n",
    "    from the user dataframe and represent any roles where the ages are less than \n",
    "    4 or greater than 90 years with null then fill every null values by the mean of \n",
    "    the ages then convert the column back to integer.\n",
    "\n",
    "    '''\n",
    "    # Locate rows where the ages is less than 4 years or greater than 90 years\n",
    "    dfu.loc[(dfu.Age < 4) | (dfu.Age > 90), 'Age'] = np.nan\n",
    "\n",
    "    # Replace every nan value by the mean of the values of age\n",
    "    dfu.Age.fillna(dfu.Age.mean(), inplace= True)\n",
    "\n",
    "    # Convert the age & and User-ID column of the user table to integer\n",
    "    Details_info = dfu.astype({'Age' : np.int64, 'User-ID' : np.int64})\n",
    "\n",
    "    return Details_info\n",
    "    \n",
    "User_Clean = Clean_User(user)\n",
    "    "
   ]
  },
  {
   "cell_type": "code",
   "execution_count": 26,
   "metadata": {},
   "outputs": [
    {
     "data": {
      "text/html": [
       "<div>\n",
       "<style scoped>\n",
       "    .dataframe tbody tr th:only-of-type {\n",
       "        vertical-align: middle;\n",
       "    }\n",
       "\n",
       "    .dataframe tbody tr th {\n",
       "        vertical-align: top;\n",
       "    }\n",
       "\n",
       "    .dataframe thead th {\n",
       "        text-align: right;\n",
       "    }\n",
       "</style>\n",
       "<table border=\"1\" class=\"dataframe\">\n",
       "  <thead>\n",
       "    <tr style=\"text-align: right;\">\n",
       "      <th></th>\n",
       "      <th>User-ID</th>\n",
       "      <th>Location</th>\n",
       "      <th>Age</th>\n",
       "    </tr>\n",
       "  </thead>\n",
       "  <tbody>\n",
       "    <tr>\n",
       "      <th>0</th>\n",
       "      <td>1</td>\n",
       "      <td>nyc, new york, usa</td>\n",
       "      <td>34</td>\n",
       "    </tr>\n",
       "    <tr>\n",
       "      <th>1</th>\n",
       "      <td>2</td>\n",
       "      <td>stockton, california, usa</td>\n",
       "      <td>18</td>\n",
       "    </tr>\n",
       "    <tr>\n",
       "      <th>2</th>\n",
       "      <td>3</td>\n",
       "      <td>moscow, yukon territory, russia</td>\n",
       "      <td>34</td>\n",
       "    </tr>\n",
       "    <tr>\n",
       "      <th>3</th>\n",
       "      <td>4</td>\n",
       "      <td>porto, v.n.gaia, portugal</td>\n",
       "      <td>17</td>\n",
       "    </tr>\n",
       "    <tr>\n",
       "      <th>4</th>\n",
       "      <td>5</td>\n",
       "      <td>farnborough, hants, united kingdom</td>\n",
       "      <td>34</td>\n",
       "    </tr>\n",
       "    <tr>\n",
       "      <th>...</th>\n",
       "      <td>...</td>\n",
       "      <td>...</td>\n",
       "      <td>...</td>\n",
       "    </tr>\n",
       "    <tr>\n",
       "      <th>278853</th>\n",
       "      <td>278854</td>\n",
       "      <td>portland, oregon, usa</td>\n",
       "      <td>34</td>\n",
       "    </tr>\n",
       "    <tr>\n",
       "      <th>278854</th>\n",
       "      <td>278855</td>\n",
       "      <td>tacoma, washington, united kingdom</td>\n",
       "      <td>50</td>\n",
       "    </tr>\n",
       "    <tr>\n",
       "      <th>278855</th>\n",
       "      <td>278856</td>\n",
       "      <td>brampton, ontario, canada</td>\n",
       "      <td>34</td>\n",
       "    </tr>\n",
       "    <tr>\n",
       "      <th>278856</th>\n",
       "      <td>278857</td>\n",
       "      <td>knoxville, tennessee, usa</td>\n",
       "      <td>34</td>\n",
       "    </tr>\n",
       "    <tr>\n",
       "      <th>278857</th>\n",
       "      <td>278858</td>\n",
       "      <td>dublin, n/a, ireland</td>\n",
       "      <td>34</td>\n",
       "    </tr>\n",
       "  </tbody>\n",
       "</table>\n",
       "<p>278858 rows × 3 columns</p>\n",
       "</div>"
      ],
      "text/plain": [
       "        User-ID                            Location  Age\n",
       "0             1                  nyc, new york, usa   34\n",
       "1             2           stockton, california, usa   18\n",
       "2             3     moscow, yukon territory, russia   34\n",
       "3             4           porto, v.n.gaia, portugal   17\n",
       "4             5  farnborough, hants, united kingdom   34\n",
       "...         ...                                 ...  ...\n",
       "278853   278854               portland, oregon, usa   34\n",
       "278854   278855  tacoma, washington, united kingdom   50\n",
       "278855   278856           brampton, ontario, canada   34\n",
       "278856   278857           knoxville, tennessee, usa   34\n",
       "278857   278858                dublin, n/a, ireland   34\n",
       "\n",
       "[278858 rows x 3 columns]"
      ]
     },
     "execution_count": 26,
     "metadata": {},
     "output_type": "execute_result"
    }
   ],
   "source": [
    "User_Clean"
   ]
  },
  {
   "cell_type": "markdown",
   "metadata": {},
   "source": [
    "### Checking for what to change in Rating Table"
   ]
  },
  {
   "cell_type": "code",
   "execution_count": 27,
   "metadata": {},
   "outputs": [],
   "source": [
    "def CheckRatingUser(book,rating):\n",
    "\n",
    "    '''\n",
    "    This function check if there is same ISBN present \n",
    "    in the book table and the user table\n",
    "\n",
    "    '''\n",
    "    # Are there rows with same ISBN book number in the user table as well as the book table\n",
    "    #...Check = book[book.user_id.isin(User_Clean['User-ID'])]...\n",
    "\n",
    "    Check_2 = rating[rating.user_id.isin(User_Clean['User-ID'])]\n",
    "    \n",
    "    return Check_2\n"
   ]
  },
  {
   "cell_type": "code",
   "execution_count": 28,
   "metadata": {},
   "outputs": [],
   "source": [
    "CleanRating = CheckRatingUser(book,rating)"
   ]
  },
  {
   "cell_type": "code",
   "execution_count": 29,
   "metadata": {},
   "outputs": [
    {
     "data": {
      "text/plain": [
       "array([5, 3, 4, 1, 2], dtype=int64)"
      ]
     },
     "execution_count": 29,
     "metadata": {},
     "output_type": "execute_result"
    }
   ],
   "source": [
    "CleanRating.rating.unique()"
   ]
  },
  {
   "cell_type": "code",
   "execution_count": 30,
   "metadata": {},
   "outputs": [],
   "source": [
    "def highest_rating():\n",
    "    '''\n",
    "    Plot the Most rating given by users\n",
    "    '''\n",
    "\n",
    "    plt.figure(figsize=(9, 5))\n",
    "    plt.title('Rating Counts')\n",
    "    new = sns.countplot(x = 'rating', data = rating)\n",
    "    return new"
   ]
  },
  {
   "cell_type": "markdown",
   "metadata": {},
   "source": [
    "The chart shows that more 4 rating were given which shows that the ratings are good for the review given the readers. Hence the books are good"
   ]
  },
  {
   "cell_type": "code",
   "execution_count": 31,
   "metadata": {},
   "outputs": [
    {
     "data": {
      "text/plain": [
       "<AxesSubplot:title={'center':'Rating Counts'}, xlabel='rating', ylabel='count'>"
      ]
     },
     "execution_count": 31,
     "metadata": {},
     "output_type": "execute_result"
    },
    {
     "data": {
      "image/png": "[encoded data removed]",
      "text/plain": [
       "<Figure size 648x360 with 1 Axes>"
      ]
     },
     "metadata": {
      "needs_background": "light"
     },
     "output_type": "display_data"
    }
   ],
   "source": [
    "highest_rating()"
   ]
  },
  {
   "cell_type": "code",
   "execution_count": 32,
   "metadata": {},
   "outputs": [],
   "source": [
    "# Cleaning Titles to get from Meta data\n",
    "\n",
    "def Cleans_title(text):\n",
    "\n",
    "    '''\n",
    "    This function removes all unwanted such as meta characters\n",
    "    of the column book-title of the cleaned book data table\n",
    "\n",
    "    '''\n",
    "    # Perform a regex where any value not starting with an Alphabet or Numeric data type is removed from the title\n",
    "    text = re.sub(r'[^a-zA-Z0-9]',' ',text) \n",
    "       \n",
    "    return text"
   ]
  },
  {
   "cell_type": "markdown",
   "metadata": {},
   "source": [
    "It is noticed that the Book Titiles are not not properly formatted hence there is need to remove all meta characters and not needed characters from the title name "
   ]
  },
  {
   "cell_type": "code",
   "execution_count": 33,
   "metadata": {},
   "outputs": [],
   "source": [
    "#Applying the function to the Book title Column\n",
    "Total_Cleaned_Data['Book-Title'] = Total_Cleaned_Data['Book-Title'].apply(lambda x:Cleans_title(x)) "
   ]
  },
  {
   "cell_type": "code",
   "execution_count": 34,
   "metadata": {},
   "outputs": [
    {
     "data": {
      "text/html": [
       "<div>\n",
       "<style scoped>\n",
       "    .dataframe tbody tr th:only-of-type {\n",
       "        vertical-align: middle;\n",
       "    }\n",
       "\n",
       "    .dataframe tbody tr th {\n",
       "        vertical-align: top;\n",
       "    }\n",
       "\n",
       "    .dataframe thead th {\n",
       "        text-align: right;\n",
       "    }\n",
       "</style>\n",
       "<table border=\"1\" class=\"dataframe\">\n",
       "  <thead>\n",
       "    <tr style=\"text-align: right;\">\n",
       "      <th></th>\n",
       "      <th>ISBN</th>\n",
       "      <th>Book-Title</th>\n",
       "      <th>Book-Author</th>\n",
       "      <th>Year-Of-Publication</th>\n",
       "      <th>Publisher</th>\n",
       "    </tr>\n",
       "  </thead>\n",
       "  <tbody>\n",
       "    <tr>\n",
       "      <th>0</th>\n",
       "      <td>0195153448</td>\n",
       "      <td>Classical Mythology</td>\n",
       "      <td>Mark P. O. Morford</td>\n",
       "      <td>2002</td>\n",
       "      <td>Oxford University Press</td>\n",
       "    </tr>\n",
       "    <tr>\n",
       "      <th>1</th>\n",
       "      <td>0002005018</td>\n",
       "      <td>Clara Callan</td>\n",
       "      <td>Richard Bruce Wright</td>\n",
       "      <td>2001</td>\n",
       "      <td>HarperFlamingo Canada</td>\n",
       "    </tr>\n",
       "    <tr>\n",
       "      <th>2</th>\n",
       "      <td>0060973129</td>\n",
       "      <td>Decision in Normandy</td>\n",
       "      <td>Carlo D'Este</td>\n",
       "      <td>1991</td>\n",
       "      <td>HarperPerennial</td>\n",
       "    </tr>\n",
       "    <tr>\n",
       "      <th>3</th>\n",
       "      <td>0374157065</td>\n",
       "      <td>Flu  The Story of the Great Influenza Pandemic...</td>\n",
       "      <td>Gina Bari Kolata</td>\n",
       "      <td>1999</td>\n",
       "      <td>Farrar Straus Giroux</td>\n",
       "    </tr>\n",
       "    <tr>\n",
       "      <th>4</th>\n",
       "      <td>0393045218</td>\n",
       "      <td>The Mummies of Urumchi</td>\n",
       "      <td>E. J. W. Barber</td>\n",
       "      <td>1999</td>\n",
       "      <td>W. W. Norton &amp;amp; Company</td>\n",
       "    </tr>\n",
       "  </tbody>\n",
       "</table>\n",
       "</div>"
      ],
      "text/plain": [
       "         ISBN                                         Book-Title  \\\n",
       "0  0195153448                                Classical Mythology   \n",
       "1  0002005018                                       Clara Callan   \n",
       "2  0060973129                               Decision in Normandy   \n",
       "3  0374157065  Flu  The Story of the Great Influenza Pandemic...   \n",
       "4  0393045218                             The Mummies of Urumchi   \n",
       "\n",
       "            Book-Author  Year-Of-Publication                   Publisher  \n",
       "0    Mark P. O. Morford                 2002     Oxford University Press  \n",
       "1  Richard Bruce Wright                 2001       HarperFlamingo Canada  \n",
       "2          Carlo D'Este                 1991             HarperPerennial  \n",
       "3      Gina Bari Kolata                 1999        Farrar Straus Giroux  \n",
       "4       E. J. W. Barber                 1999  W. W. Norton &amp; Company  "
      ]
     },
     "execution_count": 34,
     "metadata": {},
     "output_type": "execute_result"
    }
   ],
   "source": [
    "Total_Cleaned_Data.head()"
   ]
  },
  {
   "cell_type": "code",
   "execution_count": 35,
   "metadata": {},
   "outputs": [],
   "source": [
    "def User_Rating_Merge():\n",
    "    '''\n",
    "    This function merge the cleaned user table and the cleaned rating table\n",
    "    since the rating has no need of doing any cleaning on the table we just \n",
    "    load it that way.\n",
    "    '''\n",
    "    # Merge tables and join on the column user id which is the common column in both table\n",
    "    Merger = User_Clean.merge(rating, left_on= 'User-ID', right_on= 'user_id')\n",
    "    \n",
    "    return Merger"
   ]
  },
  {
   "cell_type": "code",
   "execution_count": 36,
   "metadata": {},
   "outputs": [],
   "source": [
    "# # Create a variable to save the output of the function \n",
    "User_Rating_Merge =  User_Rating_Merge()"
   ]
  },
  {
   "cell_type": "code",
   "execution_count": 37,
   "metadata": {},
   "outputs": [
    {
     "data": {
      "text/plain": [
       "User-ID     0\n",
       "Location    0\n",
       "Age         0\n",
       "book_id     0\n",
       "user_id     0\n",
       "rating      0\n",
       "dtype: int64"
      ]
     },
     "execution_count": 37,
     "metadata": {},
     "output_type": "execute_result"
    }
   ],
   "source": [
    "#Check if there are any nan value in the merged data table \n",
    "User_Rating_Merge.isna().sum()"
   ]
  },
  {
   "cell_type": "code",
   "execution_count": 38,
   "metadata": {},
   "outputs": [],
   "source": [
    "def addBookID():\n",
    "    '''\n",
    "    Since i want to join the 3 tables together to form one single table,\n",
    "    I have to make sure that the tables have common column values.\n",
    "    the user_rating column does nor have one or more common column with the \n",
    "    book table hence this function creates an a new column and named as the \n",
    "    book_id\n",
    "    '''\n",
    "    # Create a new index starting from 1 \n",
    "    Total_Cleaned_Data.index = np.arange(1,len(Total_Cleaned_Data)+1)\n",
    "\n",
    "    #Reset the index to make the former index as a column\n",
    "    Total_Cleaned_Data.reset_index(inplace=True)\n",
    "\n",
    "    #Rename the title of the new column as Book_id \n",
    "    Total_Cleaned_Data.rename(columns={'index':'Book_id'},inplace=True)\n",
    "    \n",
    "    return Total_Cleaned_Data\n",
    "\n",
    "Total_CleanedBook_DataID = addBookID()"
   ]
  },
  {
   "cell_type": "code",
   "execution_count": 39,
   "metadata": {},
   "outputs": [
    {
     "data": {
      "text/html": [
       "<div>\n",
       "<style scoped>\n",
       "    .dataframe tbody tr th:only-of-type {\n",
       "        vertical-align: middle;\n",
       "    }\n",
       "\n",
       "    .dataframe tbody tr th {\n",
       "        vertical-align: top;\n",
       "    }\n",
       "\n",
       "    .dataframe thead th {\n",
       "        text-align: right;\n",
       "    }\n",
       "</style>\n",
       "<table border=\"1\" class=\"dataframe\">\n",
       "  <thead>\n",
       "    <tr style=\"text-align: right;\">\n",
       "      <th></th>\n",
       "      <th>Book_id</th>\n",
       "      <th>ISBN</th>\n",
       "      <th>Book-Title</th>\n",
       "      <th>Book-Author</th>\n",
       "      <th>Year-Of-Publication</th>\n",
       "      <th>Publisher</th>\n",
       "    </tr>\n",
       "  </thead>\n",
       "  <tbody>\n",
       "    <tr>\n",
       "      <th>0</th>\n",
       "      <td>1</td>\n",
       "      <td>0195153448</td>\n",
       "      <td>Classical Mythology</td>\n",
       "      <td>Mark P. O. Morford</td>\n",
       "      <td>2002</td>\n",
       "      <td>Oxford University Press</td>\n",
       "    </tr>\n",
       "    <tr>\n",
       "      <th>1</th>\n",
       "      <td>2</td>\n",
       "      <td>0002005018</td>\n",
       "      <td>Clara Callan</td>\n",
       "      <td>Richard Bruce Wright</td>\n",
       "      <td>2001</td>\n",
       "      <td>HarperFlamingo Canada</td>\n",
       "    </tr>\n",
       "    <tr>\n",
       "      <th>2</th>\n",
       "      <td>3</td>\n",
       "      <td>0060973129</td>\n",
       "      <td>Decision in Normandy</td>\n",
       "      <td>Carlo D'Este</td>\n",
       "      <td>1991</td>\n",
       "      <td>HarperPerennial</td>\n",
       "    </tr>\n",
       "    <tr>\n",
       "      <th>3</th>\n",
       "      <td>4</td>\n",
       "      <td>0374157065</td>\n",
       "      <td>Flu  The Story of the Great Influenza Pandemic...</td>\n",
       "      <td>Gina Bari Kolata</td>\n",
       "      <td>1999</td>\n",
       "      <td>Farrar Straus Giroux</td>\n",
       "    </tr>\n",
       "    <tr>\n",
       "      <th>4</th>\n",
       "      <td>5</td>\n",
       "      <td>0393045218</td>\n",
       "      <td>The Mummies of Urumchi</td>\n",
       "      <td>E. J. W. Barber</td>\n",
       "      <td>1999</td>\n",
       "      <td>W. W. Norton &amp;amp; Company</td>\n",
       "    </tr>\n",
       "  </tbody>\n",
       "</table>\n",
       "</div>"
      ],
      "text/plain": [
       "   Book_id        ISBN                                         Book-Title  \\\n",
       "0        1  0195153448                                Classical Mythology   \n",
       "1        2  0002005018                                       Clara Callan   \n",
       "2        3  0060973129                               Decision in Normandy   \n",
       "3        4  0374157065  Flu  The Story of the Great Influenza Pandemic...   \n",
       "4        5  0393045218                             The Mummies of Urumchi   \n",
       "\n",
       "            Book-Author  Year-Of-Publication                   Publisher  \n",
       "0    Mark P. O. Morford                 2002     Oxford University Press  \n",
       "1  Richard Bruce Wright                 2001       HarperFlamingo Canada  \n",
       "2          Carlo D'Este                 1991             HarperPerennial  \n",
       "3      Gina Bari Kolata                 1999        Farrar Straus Giroux  \n",
       "4       E. J. W. Barber                 1999  W. W. Norton &amp; Company  "
      ]
     },
     "execution_count": 39,
     "metadata": {},
     "output_type": "execute_result"
    }
   ],
   "source": [
    "Total_CleanedBook_DataID.head()"
   ]
  },
  {
   "cell_type": "code",
   "execution_count": 40,
   "metadata": {},
   "outputs": [],
   "source": [
    "def Book_User_Rating():\n",
    "    '''\n",
    "    This function merge the cleaned book table and the user_rating table\n",
    "    joining both tables on the book_id columns.\n",
    "    Then return the required column needed in the final table.\n",
    "    '''\n",
    "    # Merge the cleaned book table with the user_rating merged table \n",
    "    Final_Book_Table = Total_CleanedBook_DataID.merge(User_Rating_Merge,left_on='Book_id', right_on='book_id')\n",
    "\n",
    "    # Give only the columns specified in the iloc and discard the rest\n",
    "    FinalCleaned_Book_Table = Final_Book_Table.iloc[:,[0,1,2,3,4,5,6,8,7,11]]\n",
    "\n",
    "    return FinalCleaned_Book_Table\n",
    "    \n",
    "Final_Table  = Book_User_Rating()"
   ]
  },
  {
   "cell_type": "code",
   "execution_count": 41,
   "metadata": {},
   "outputs": [
    {
     "data": {
      "text/plain": [
       "Book_id                0\n",
       "ISBN                   0\n",
       "Book-Title             0\n",
       "Book-Author            0\n",
       "Year-Of-Publication    0\n",
       "Publisher              0\n",
       "User-ID                0\n",
       "Age                    0\n",
       "Location               0\n",
       "rating                 0\n",
       "dtype: int64"
      ]
     },
     "execution_count": 41,
     "metadata": {},
     "output_type": "execute_result"
    }
   ],
   "source": [
    "# Determine if there is any null value present in the final table \n",
    "Final_Table.isna().sum()"
   ]
  },
  {
   "cell_type": "code",
   "execution_count": 42,
   "metadata": {},
   "outputs": [
    {
     "data": {
      "text/html": [
       "<div>\n",
       "<style scoped>\n",
       "    .dataframe tbody tr th:only-of-type {\n",
       "        vertical-align: middle;\n",
       "    }\n",
       "\n",
       "    .dataframe tbody tr th {\n",
       "        vertical-align: top;\n",
       "    }\n",
       "\n",
       "    .dataframe thead th {\n",
       "        text-align: right;\n",
       "    }\n",
       "</style>\n",
       "<table border=\"1\" class=\"dataframe\">\n",
       "  <thead>\n",
       "    <tr style=\"text-align: right;\">\n",
       "      <th></th>\n",
       "      <th>Book_id</th>\n",
       "      <th>ISBN</th>\n",
       "      <th>Book-Title</th>\n",
       "      <th>Book-Author</th>\n",
       "      <th>Year-Of-Publication</th>\n",
       "      <th>Publisher</th>\n",
       "      <th>User-ID</th>\n",
       "      <th>Age</th>\n",
       "      <th>Location</th>\n",
       "      <th>rating</th>\n",
       "    </tr>\n",
       "  </thead>\n",
       "  <tbody>\n",
       "    <tr>\n",
       "      <th>0</th>\n",
       "      <td>1</td>\n",
       "      <td>0195153448</td>\n",
       "      <td>Classical Mythology</td>\n",
       "      <td>Mark P. O. Morford</td>\n",
       "      <td>2002</td>\n",
       "      <td>Oxford University Press</td>\n",
       "      <td>314</td>\n",
       "      <td>28</td>\n",
       "      <td>århus, n/a, denmark</td>\n",
       "      <td>5</td>\n",
       "    </tr>\n",
       "    <tr>\n",
       "      <th>1</th>\n",
       "      <td>1</td>\n",
       "      <td>0195153448</td>\n",
       "      <td>Classical Mythology</td>\n",
       "      <td>Mark P. O. Morford</td>\n",
       "      <td>2002</td>\n",
       "      <td>Oxford University Press</td>\n",
       "      <td>439</td>\n",
       "      <td>34</td>\n",
       "      <td>tiburon, california, usa</td>\n",
       "      <td>3</td>\n",
       "    </tr>\n",
       "    <tr>\n",
       "      <th>2</th>\n",
       "      <td>1</td>\n",
       "      <td>0195153448</td>\n",
       "      <td>Classical Mythology</td>\n",
       "      <td>Mark P. O. Morford</td>\n",
       "      <td>2002</td>\n",
       "      <td>Oxford University Press</td>\n",
       "      <td>588</td>\n",
       "      <td>60</td>\n",
       "      <td>roseville, minnesota, usa</td>\n",
       "      <td>5</td>\n",
       "    </tr>\n",
       "    <tr>\n",
       "      <th>3</th>\n",
       "      <td>1</td>\n",
       "      <td>0195153448</td>\n",
       "      <td>Classical Mythology</td>\n",
       "      <td>Mark P. O. Morford</td>\n",
       "      <td>2002</td>\n",
       "      <td>Oxford University Press</td>\n",
       "      <td>1169</td>\n",
       "      <td>27</td>\n",
       "      <td>olympia, washington, usa</td>\n",
       "      <td>4</td>\n",
       "    </tr>\n",
       "    <tr>\n",
       "      <th>4</th>\n",
       "      <td>1</td>\n",
       "      <td>0195153448</td>\n",
       "      <td>Classical Mythology</td>\n",
       "      <td>Mark P. O. Morford</td>\n",
       "      <td>2002</td>\n",
       "      <td>Oxford University Press</td>\n",
       "      <td>1185</td>\n",
       "      <td>34</td>\n",
       "      <td>tiburon, california, usa</td>\n",
       "      <td>4</td>\n",
       "    </tr>\n",
       "  </tbody>\n",
       "</table>\n",
       "</div>"
      ],
      "text/plain": [
       "   Book_id        ISBN           Book-Title         Book-Author  \\\n",
       "0        1  0195153448  Classical Mythology  Mark P. O. Morford   \n",
       "1        1  0195153448  Classical Mythology  Mark P. O. Morford   \n",
       "2        1  0195153448  Classical Mythology  Mark P. O. Morford   \n",
       "3        1  0195153448  Classical Mythology  Mark P. O. Morford   \n",
       "4        1  0195153448  Classical Mythology  Mark P. O. Morford   \n",
       "\n",
       "   Year-Of-Publication                Publisher  User-ID  Age  \\\n",
       "0                 2002  Oxford University Press      314   28   \n",
       "1                 2002  Oxford University Press      439   34   \n",
       "2                 2002  Oxford University Press      588   60   \n",
       "3                 2002  Oxford University Press     1169   27   \n",
       "4                 2002  Oxford University Press     1185   34   \n",
       "\n",
       "                    Location  rating  \n",
       "0        århus, n/a, denmark       5  \n",
       "1   tiburon, california, usa       3  \n",
       "2  roseville, minnesota, usa       5  \n",
       "3   olympia, washington, usa       4  \n",
       "4   tiburon, california, usa       4  "
      ]
     },
     "execution_count": 42,
     "metadata": {},
     "output_type": "execute_result"
    }
   ],
   "source": [
    "Final_Table.head(5)"
   ]
  },
  {
   "cell_type": "code",
   "execution_count": 43,
   "metadata": {},
   "outputs": [],
   "source": [
    "# This is to know the number of times each book title appears in the records which is the most read book\n",
    "def most_read_books(Final_Table):\n",
    "    ''' \n",
    "    This function finds the top 5 most read books \n",
    "    '''\n",
    "\n",
    "    most_read = Final_Table['Book-Title'].value_counts().reset_index() \n",
    "    most_read.columns = ['Book-Title', 'count']\n",
    "\n",
    "    return most_read\n",
    "    \n",
    "most_read = most_read_books(Final_Table)"
   ]
  },
  {
   "cell_type": "code",
   "execution_count": 44,
   "metadata": {},
   "outputs": [
    {
     "data": {
      "text/html": [
       "<div>\n",
       "<style scoped>\n",
       "    .dataframe tbody tr th:only-of-type {\n",
       "        vertical-align: middle;\n",
       "    }\n",
       "\n",
       "    .dataframe tbody tr th {\n",
       "        vertical-align: top;\n",
       "    }\n",
       "\n",
       "    .dataframe thead th {\n",
       "        text-align: right;\n",
       "    }\n",
       "</style>\n",
       "<table border=\"1\" class=\"dataframe\">\n",
       "  <thead>\n",
       "    <tr style=\"text-align: right;\">\n",
       "      <th></th>\n",
       "      <th>Book-Title</th>\n",
       "      <th>count</th>\n",
       "    </tr>\n",
       "  </thead>\n",
       "  <tbody>\n",
       "    <tr>\n",
       "      <th>0</th>\n",
       "      <td>The Golden Compass  His Dark Materials  Book 1</td>\n",
       "      <td>487</td>\n",
       "    </tr>\n",
       "    <tr>\n",
       "      <th>1</th>\n",
       "      <td>Bridget Jones s Diary</td>\n",
       "      <td>400</td>\n",
       "    </tr>\n",
       "    <tr>\n",
       "      <th>2</th>\n",
       "      <td>The Amber Spyglass  His Dark Materials  Book 3</td>\n",
       "      <td>400</td>\n",
       "    </tr>\n",
       "    <tr>\n",
       "      <th>3</th>\n",
       "      <td>Ender s Game  Ender Wiggins Saga  Paperback</td>\n",
       "      <td>398</td>\n",
       "    </tr>\n",
       "    <tr>\n",
       "      <th>4</th>\n",
       "      <td>Animal Farm</td>\n",
       "      <td>397</td>\n",
       "    </tr>\n",
       "  </tbody>\n",
       "</table>\n",
       "</div>"
      ],
      "text/plain": [
       "                                        Book-Title  count\n",
       "0  The Golden Compass  His Dark Materials  Book 1     487\n",
       "1                            Bridget Jones s Diary    400\n",
       "2  The Amber Spyglass  His Dark Materials  Book 3     400\n",
       "3    Ender s Game  Ender Wiggins Saga  Paperback      398\n",
       "4                                      Animal Farm    397"
      ]
     },
     "execution_count": 44,
     "metadata": {},
     "output_type": "execute_result"
    }
   ],
   "source": [
    "most_read.head()"
   ]
  },
  {
   "cell_type": "code",
   "execution_count": 45,
   "metadata": {},
   "outputs": [],
   "source": [
    "def plot_most_read():\n",
    "    '''\n",
    "    The function shows the barchart of the most books read\n",
    "    '''\n",
    "\n",
    "    plt.figure(figsize=(10,10))\n",
    "    plt.title('Top 20 read books')\n",
    "    ax = sns.barplot(y='Book-Title', x='count', data = most_read.head(20), palette='bone')\n",
    "\n",
    "    # This is to put the labels in the bar chart\n",
    "    for i in ax.containers:\n",
    "        label = ax.bar_label(i,label_type='center', color = 'w')\n",
    "    return ax"
   ]
  },
  {
   "cell_type": "code",
   "execution_count": 46,
   "metadata": {},
   "outputs": [
    {
     "data": {
      "text/plain": [
       "<AxesSubplot:title={'center':'Top 20 read books'}, xlabel='count', ylabel='Book-Title'>"
      ]
     },
     "execution_count": 46,
     "metadata": {},
     "output_type": "execute_result"
    },
    {
     "data": {
      "image/png": "[encoded data removed]",
      "text/plain": [
       "<Figure size 720x720 with 1 Axes>"
      ]
     },
     "metadata": {
      "needs_background": "light"
     },
     "output_type": "display_data"
    }
   ],
   "source": [
    "plot_most_read()"
   ]
  },
  {
   "cell_type": "code",
   "execution_count": 47,
   "metadata": {},
   "outputs": [
    {
     "data": {
      "text/plain": [
       "Book_id                                     2210\n",
       "ISBN                                  0618050140\n",
       "Book-Title                             The Ledge\n",
       "Book-Author                      Michael Collier\n",
       "Year-Of-Publication                         2000\n",
       "Publisher               Houghton Mifflin Company\n",
       "User-ID                                    30479\n",
       "Age                                           34\n",
       "Location               edmonton, alberta, canada\n",
       "rating                                         5\n",
       "Name: 220838, dtype: object"
      ]
     },
     "execution_count": 47,
     "metadata": {},
     "output_type": "execute_result"
    }
   ],
   "source": [
    "Final_Table.iloc[220838]"
   ]
  },
  {
   "cell_type": "code",
   "execution_count": 49,
   "metadata": {},
   "outputs": [],
   "source": [
    "def Avg_Ratings():\n",
    "    '''\n",
    "    Find the top average rated books read and drop any ducplicate value available\n",
    "\n",
    "    '''\n",
    "    Avg_Ratings = Final_Table[['Book-Title','rating']]\n",
    "\n",
    "    #Group the table by group title and find the mean of the rating\n",
    "    Avg_Ratings = Avg_Ratings.groupby('Book-Title',as_index=False)['rating'].mean()\n",
    "\n",
    "    # Sort the result in descending order and drop any duplicate value \n",
    "    Avg_Ratings = Avg_Ratings.sort_values('rating',ascending=False).drop_duplicates(subset=['Book-Title'],keep='first')\n",
    "\n",
    "    Avg_Ratings = Avg_Ratings[['Book-Title', 'rating']]\n",
    "    #Avg_Ratings = Avg_Ratings['rating'].map(lambda x : round(x))\n",
    "    #Avg_Ratings = round(Avg_Ratings)\n",
    "    return Avg_Ratings\n",
    "\n",
    "Avg_Ratings = Avg_Ratings()"
   ]
  },
  {
   "cell_type": "code",
   "execution_count": 50,
   "metadata": {},
   "outputs": [
    {
     "data": {
      "text/html": [
       "<div>\n",
       "<style scoped>\n",
       "    .dataframe tbody tr th:only-of-type {\n",
       "        vertical-align: middle;\n",
       "    }\n",
       "\n",
       "    .dataframe tbody tr th {\n",
       "        vertical-align: top;\n",
       "    }\n",
       "\n",
       "    .dataframe thead th {\n",
       "        text-align: right;\n",
       "    }\n",
       "</style>\n",
       "<table border=\"1\" class=\"dataframe\">\n",
       "  <thead>\n",
       "    <tr style=\"text-align: right;\">\n",
       "      <th></th>\n",
       "      <th>Book-Title</th>\n",
       "      <th>rating</th>\n",
       "    </tr>\n",
       "  </thead>\n",
       "  <tbody>\n",
       "    <tr>\n",
       "      <th>1747</th>\n",
       "      <td>Death Row</td>\n",
       "      <td>2.462687</td>\n",
       "    </tr>\n",
       "    <tr>\n",
       "      <th>8428</th>\n",
       "      <td>The Trials of Tiffany Trott</td>\n",
       "      <td>2.457447</td>\n",
       "    </tr>\n",
       "    <tr>\n",
       "      <th>2726</th>\n",
       "      <td>French Lieutenant s Woman</td>\n",
       "      <td>2.430000</td>\n",
       "    </tr>\n",
       "    <tr>\n",
       "      <th>1211</th>\n",
       "      <td>Cause of Death</td>\n",
       "      <td>2.350515</td>\n",
       "    </tr>\n",
       "    <tr>\n",
       "      <th>2419</th>\n",
       "      <td>Extra Terrestrials Among Us  Llewellyn s Psi T...</td>\n",
       "      <td>2.312500</td>\n",
       "    </tr>\n",
       "  </tbody>\n",
       "</table>\n",
       "</div>"
      ],
      "text/plain": [
       "                                             Book-Title    rating\n",
       "1747                                          Death Row  2.462687\n",
       "8428                        The Trials of Tiffany Trott  2.457447\n",
       "2726                          French Lieutenant s Woman  2.430000\n",
       "1211                                     Cause of Death  2.350515\n",
       "2419  Extra Terrestrials Among Us  Llewellyn s Psi T...  2.312500"
      ]
     },
     "execution_count": 50,
     "metadata": {},
     "output_type": "execute_result"
    }
   ],
   "source": [
    "Avg_Ratings.tail()  #Lowest Average Rating books"
   ]
  },
  {
   "cell_type": "code",
   "execution_count": 51,
   "metadata": {},
   "outputs": [],
   "source": [
    "## I want to know the most read books and their average\n",
    "\n",
    "def most_rated_book(Avg_R, most_R):\n",
    "\n",
    "    '''\n",
    "    This find the averae rating of the 20 most read books\n",
    "\n",
    "    '''\n",
    "\n",
    "    #Avg_Ratings  #Average Rating\n",
    "    #most_read     # Total number of books read\n",
    "\n",
    "    most_Rated_book = Avg_R.merge(most_R, on='Book-Title') # Create a new table which is called most_Rated_book\n",
    "    most_Rated_book = most_Rated_book.sort_values('count', ascending=False)\n",
    "    most_Rated_book = most_Rated_book.head(20)\n",
    "    most_Rated_book = most_Rated_book.sort_values('rating', ascending=False)\n",
    "\n",
    "    fig = plt.figure(figsize=(10,10))\n",
    "    titles = plt.title('Average Ratings of the most read books')\n",
    "    bx = sns.barplot(y = 'Book-Title', x ='rating', data = most_Rated_book, palette = 'autumn');\n",
    "\n",
    "    for i in bx.containers:\n",
    "        bx.bar_label(i,)\n",
    "\n",
    "    return bx"
   ]
  },
  {
   "cell_type": "code",
   "execution_count": 52,
   "metadata": {},
   "outputs": [
    {
     "data": {
      "text/plain": [
       "<AxesSubplot:title={'center':'Average Ratings of the most read books'}, xlabel='rating', ylabel='Book-Title'>"
      ]
     },
     "execution_count": 52,
     "metadata": {},
     "output_type": "execute_result"
    },
    {
     "data": {
      "image/png": "[encoded data removed]",
      "text/plain": [
       "<Figure size 720x720 with 1 Axes>"
      ]
     },
     "metadata": {
      "needs_background": "light"
     },
     "output_type": "display_data"
    }
   ],
   "source": [
    "most_rated_book(Avg_Ratings,most_read)"
   ]
  },
  {
   "cell_type": "code",
   "execution_count": 53,
   "metadata": {},
   "outputs": [
    {
     "data": {
      "image/png": "[encoded data removed]",
      "text/plain": [
       "<Figure size 576x432 with 1 Axes>"
      ]
     },
     "metadata": {
      "needs_background": "light"
     },
     "output_type": "display_data"
    }
   ],
   "source": [
    "def length_title():\n",
    "    title_length = Final_Table['Book-Title'].map(lambda x: len(x))\n",
    "\n",
    "    plt.figure(figsize=(8,6))\n",
    "    plt.title('Number of books with a specific title length')\n",
    "    fx = sns.histplot(title_length, bins=25, color = 'lightblue', linewidth = 2, edgecolor = 'black');\n",
    "    return fx\n",
    "\n",
    "Title_length = length_title()"
   ]
  },
  {
   "cell_type": "code",
   "execution_count": 54,
   "metadata": {},
   "outputs": [
    {
     "data": {
      "image/png": "[encoded data removed]",
      "text/plain": [
       "<Figure size 720x720 with 1 Axes>"
      ]
     },
     "metadata": {
      "needs_background": "light"
     },
     "output_type": "display_data"
    }
   ],
   "source": [
    "# Years with the Highest Publish\n",
    "\n",
    "def Year_Published():\n",
    "    YearofPublish = Final_Table['Year-Of-Publication'].value_counts().reset_index()\n",
    "    YearofPublish.columns = ['Year','count']\n",
    "    YearofPublish.Year = 'Year ' + YearofPublish['Year'].astype(str) \n",
    "\n",
    "    YearofPublish = YearofPublish.sort_values('count', ascending=False)\n",
    "\n",
    "    plt.figure(figsize=(10,10))\n",
    "    plt.title('Top 10 Years of Publishing')\n",
    "    cx = sns.barplot(x='count', y='Year', data = YearofPublish.head(20), palette='Wistia_r')\n",
    "\n",
    "    for i in cx.containers:\n",
    "        cx.bar_label(i, label_type='center', color = 'w')\n",
    "    return cx\n",
    "\n",
    "Published_Year = Year_Published()"
   ]
  },
  {
   "cell_type": "code",
   "execution_count": 55,
   "metadata": {},
   "outputs": [
    {
     "data": {
      "image/png": "[encoded data removed]",
      "text/plain": [
       "<Figure size 720x720 with 1 Axes>"
      ]
     },
     "metadata": {
      "needs_background": "light"
     },
     "output_type": "display_data"
    }
   ],
   "source": [
    "def Top_Author():\n",
    "  '''\n",
    "  This gives the top 20 Authors with the highest book published\n",
    "  '''\n",
    "\n",
    " \n",
    "  BookAuthor = Final_Table['Book-Author'].value_counts().reset_index()\n",
    "  BookAuthor.columns = ['Author','count']\n",
    "  BookAuthor['Author'] = BookAuthor['Author']\n",
    "\n",
    "  BookAuthor = BookAuthor.sort_values('count', ascending=False)\n",
    "\n",
    "\n",
    "  plt.figure(figsize=(10,10))\n",
    "  plt.title('Author with the most book')\n",
    "  dx = sns.barplot(x='count', y='Author', data = BookAuthor.head(20), palette='copper')\n",
    "\n",
    "  for i in dx.containers:\n",
    "    dx.bar_label(i, label_type='center', color = 'w')\n",
    "  return dx\n",
    "Top20_Authors = Top_Author()"
   ]
  },
  {
   "cell_type": "code",
   "execution_count": 56,
   "metadata": {},
   "outputs": [
    {
     "data": {
      "image/png": "[encoded data removed]",
      "text/plain": [
       "<Figure size 720x720 with 1 Axes>"
      ]
     },
     "metadata": {
      "needs_background": "light"
     },
     "output_type": "display_data"
    }
   ],
   "source": [
    "def Highest_Publisher():\n",
    "  '''\n",
    "  This function gives the publisher with the most book available\n",
    "\n",
    "  '''\n",
    "  BookPublisher = Final_Table['Publisher'].value_counts().reset_index()\n",
    "  BookPublisher.columns = ['Publisher','count']\n",
    "\n",
    "  BookPublisher = BookPublisher.sort_values('count', ascending=False)\n",
    "\n",
    "\n",
    "  plt.figure(figsize=(10,10))\n",
    "  plt.title('Publisher with the most book')\n",
    "  ex = sns.barplot(x='count', y='Publisher', data = BookPublisher.head(20), palette='crest_r')\n",
    "\n",
    "  for i in ex.containers:\n",
    "    ex.bar_label(i, label_type='center', color = 'w')\n",
    "  return ex\n",
    "\n",
    "Publisher_highest = Highest_Publisher()"
   ]
  },
  {
   "cell_type": "code",
   "execution_count": 57,
   "metadata": {},
   "outputs": [
    {
     "data": {
      "image/png": "[encoded data removed]",
      "text/plain": [
       "<Figure size 720x432 with 1 Axes>"
      ]
     },
     "metadata": {
      "needs_background": "light"
     },
     "output_type": "display_data"
    }
   ],
   "source": [
    "user_age = User_Clean.Age\n",
    "plt.figure(figsize=(10,6), tight_layout=True)\n",
    "plt.title('Number of users according to user age')\n",
    "sns.histplot(user_age, bins=25, linewidth = 2, color = 'cyan', edgecolor = 'black');"
   ]
  },
  {
   "cell_type": "code",
   "execution_count": null,
   "metadata": {},
   "outputs": [],
   "source": []
  }
 ],
 "metadata": {
  "kernelspec": {
   "display_name": "Python 3.10.0 64-bit",
   "language": "python",
   "name": "python3"
  },
  "language_info": {
   "codemirror_mode": {
    "name": "ipython",
    "version": 3
   },
   "file_extension": ".py",
   "mimetype": "text/x-python",
   "name": "python",
   "nbconvert_exporter": "python",
   "pygments_lexer": "ipython3",
   "version": "3.10.0"
  },
  "orig_nbformat": 4,
  "vscode": {
   "interpreter": {
    "hash": "8e8c33809a614fdfb32707cdab068bd52891d13ba25639eef1bf966e3d1ca094"
   }
  }
 },
 "nbformat": 4,
 "nbformat_minor": 2
}
